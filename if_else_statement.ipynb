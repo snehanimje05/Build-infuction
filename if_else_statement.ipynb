{
  "nbformat": 4,
  "nbformat_minor": 0,
  "metadata": {
    "colab": {
      "provenance": [],
      "authorship_tag": "ABX9TyPpaaoCQQyIcTAquH1JmgCk",
      "include_colab_link": true
    },
    "kernelspec": {
      "name": "python3",
      "display_name": "Python 3"
    },
    "language_info": {
      "name": "python"
    }
  },
  "cells": [
    {
      "cell_type": "markdown",
      "metadata": {
        "id": "view-in-github",
        "colab_type": "text"
      },
      "source": [
        "<a href=\"https://colab.research.google.com/github/snehanimje05/Build-infuction/blob/main/if_else_statement.ipynb\" target=\"_parent\"><img src=\"https://colab.research.google.com/assets/colab-badge.svg\" alt=\"Open In Colab\"/></a>"
      ]
    },
    {
      "cell_type": "markdown",
      "source": [
        "Take a number as input the user and check if the number is even or odd."
      ],
      "metadata": {
        "id": "NOuDup_OjGfV"
      }
    },
    {
      "cell_type": "code",
      "source": [
        "num=int(input('enter a number'))\n",
        "if num%2==0:\n",
        "  print('even')\n",
        "else:\n",
        "  print('odd')"
      ],
      "metadata": {
        "colab": {
          "base_uri": "https://localhost:8080/"
        },
        "id": "awLGM7Y5jbJk",
        "outputId": "4d234392-9dc6-4455-f138-9a0655d53e99"
      },
      "execution_count": 1,
      "outputs": [
        {
          "output_type": "stream",
          "name": "stdout",
          "text": [
            "enter a number20\n",
            "even\n"
          ]
        }
      ]
    },
    {
      "cell_type": "markdown",
      "source": [
        "Take number as input check the number id grater or equal to.\n"
      ],
      "metadata": {
        "id": "h5mkd_lfkDfz"
      }
    },
    {
      "cell_type": "code",
      "source": [
        "x=int(input('enter the number'))\n",
        "y=int(input('enter the number'))\n",
        "if x>y:\n",
        "  print('x is greater than y')\n",
        "elif x==y:\n",
        "  print('value of x and y is same')\n",
        "else:\n",
        "  print('y is grater than x')"
      ],
      "metadata": {
        "colab": {
          "base_uri": "https://localhost:8080/"
        },
        "id": "gLW_1veIkaPU",
        "outputId": "14e579e1-15c7-43f0-815c-494af774e054"
      },
      "execution_count": 2,
      "outputs": [
        {
          "output_type": "stream",
          "name": "stdout",
          "text": [
            "enter the number2\n",
            "enter the number5\n",
            "y is grater than x\n"
          ]
        }
      ]
    },
    {
      "cell_type": "code",
      "source": [],
      "metadata": {
        "id": "TLrMXaW2lOgR"
      },
      "execution_count": 2,
      "outputs": []
    }
  ]
}