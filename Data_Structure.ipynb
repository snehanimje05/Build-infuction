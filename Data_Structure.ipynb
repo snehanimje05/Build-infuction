{
  "nbformat": 4,
  "nbformat_minor": 0,
  "metadata": {
    "colab": {
      "provenance": [],
      "authorship_tag": "ABX9TyPItU1VjHV2vbZg8tdNRX7M",
      "include_colab_link": true
    },
    "kernelspec": {
      "name": "python3",
      "display_name": "Python 3"
    },
    "language_info": {
      "name": "python"
    }
  },
  "cells": [
    {
      "cell_type": "markdown",
      "metadata": {
        "id": "view-in-github",
        "colab_type": "text"
      },
      "source": [
        "<a href=\"https://colab.research.google.com/github/snehanimje05/Build-infuction/blob/main/Data_Structure.ipynb\" target=\"_parent\"><img src=\"https://colab.research.google.com/assets/colab-badge.svg\" alt=\"Open In Colab\"/></a>"
      ]
    },
    {
      "cell_type": "markdown",
      "source": [
        "set"
      ],
      "metadata": {
        "id": "7XEMcLdN2Jzv"
      }
    },
    {
      "cell_type": "code",
      "source": [
        "s={'india','uk',60,-7,6.9,'londan'}"
      ],
      "metadata": {
        "id": "AwwVpQli2NnA"
      },
      "execution_count": null,
      "outputs": []
    },
    {
      "cell_type": "code",
      "source": [
        "s"
      ],
      "metadata": {
        "colab": {
          "base_uri": "https://localhost:8080/"
        },
        "id": "l8Ol4jag2bW3",
        "outputId": "0e67fef0-75a6-4ec9-ec2d-140615b55a8f"
      },
      "execution_count": null,
      "outputs": [
        {
          "output_type": "execute_result",
          "data": {
            "text/plain": [
              "{-7, 6.9, 60, 'india', 'londan', 'uk'}"
            ]
          },
          "metadata": {},
          "execution_count": 2
        }
      ]
    },
    {
      "cell_type": "markdown",
      "source": [
        "Dictionary"
      ],
      "metadata": {
        "id": "mlMTvXmt206g"
      }
    },
    {
      "cell_type": "code",
      "source": [
        "memo={'chips':20,'notebook':50,'pen':10}"
      ],
      "metadata": {
        "id": "WsZKdMpj27kc"
      },
      "execution_count": null,
      "outputs": []
    },
    {
      "cell_type": "code",
      "source": [
        "memo"
      ],
      "metadata": {
        "colab": {
          "base_uri": "https://localhost:8080/"
        },
        "id": "3gVq2VsW3RKF",
        "outputId": "3091509d-7fca-44b6-ec97-dd26aa604955"
      },
      "execution_count": null,
      "outputs": [
        {
          "output_type": "execute_result",
          "data": {
            "text/plain": [
              "{'chips': 20, 'notebook': 50, 'pen': 10}"
            ]
          },
          "metadata": {},
          "execution_count": 6
        }
      ]
    },
    {
      "cell_type": "code",
      "source": [
        "memo['ice-cream']=100   #add new data"
      ],
      "metadata": {
        "id": "4UN5JbNG3Uwq"
      },
      "execution_count": null,
      "outputs": []
    },
    {
      "cell_type": "code",
      "source": [],
      "metadata": {
        "id": "sDL2oKo83v-J"
      },
      "execution_count": null,
      "outputs": []
    },
    {
      "cell_type": "code",
      "source": [
        "memo"
      ],
      "metadata": {
        "colab": {
          "base_uri": "https://localhost:8080/"
        },
        "id": "EcK1vXun3bX7",
        "outputId": "514d5cf3-bc29-4cda-e161-d5a9fb6cfcc5"
      },
      "execution_count": null,
      "outputs": [
        {
          "output_type": "execute_result",
          "data": {
            "text/plain": [
              "{'chips': 20, 'notebook': 50, 'pen': 10, 'ice-cream': 100}"
            ]
          },
          "metadata": {},
          "execution_count": 8
        }
      ]
    },
    {
      "cell_type": "code",
      "source": [
        "memo['cold drik']=120"
      ],
      "metadata": {
        "id": "XpGx1e_F3c1c"
      },
      "execution_count": null,
      "outputs": []
    },
    {
      "cell_type": "code",
      "source": [
        "memo"
      ],
      "metadata": {
        "colab": {
          "base_uri": "https://localhost:8080/"
        },
        "id": "-JLALYIy306x",
        "outputId": "3eb3876b-cea6-4b99-eb30-32355e418127"
      },
      "execution_count": null,
      "outputs": [
        {
          "output_type": "execute_result",
          "data": {
            "text/plain": [
              "{'chips': 20, 'notebook': 50, 'pen': 10, 'ice-cream': 100, 'cold drik': 120}"
            ]
          },
          "metadata": {},
          "execution_count": 11
        }
      ]
    },
    {
      "cell_type": "code",
      "source": [
        "del memo['cold drik']     #delete data"
      ],
      "metadata": {
        "id": "ptyuerf33q0Y"
      },
      "execution_count": null,
      "outputs": []
    },
    {
      "cell_type": "code",
      "source": [
        "memo"
      ],
      "metadata": {
        "colab": {
          "base_uri": "https://localhost:8080/"
        },
        "id": "k1ARG93p35tM",
        "outputId": "43b9fdf2-c056-4388-e0d4-9c98b9319c1f"
      },
      "execution_count": null,
      "outputs": [
        {
          "output_type": "execute_result",
          "data": {
            "text/plain": [
              "{'chips': 20, 'notebook': 50, 'pen': 10, 'ice-cream': 100}"
            ]
          },
          "metadata": {},
          "execution_count": 13
        }
      ]
    },
    {
      "cell_type": "markdown",
      "source": [
        "Tuple"
      ],
      "metadata": {
        "id": "TpQ_UrgH4Bgx"
      }
    },
    {
      "cell_type": "code",
      "source": [
        "tup=('india','usa',30,76,-99)"
      ],
      "metadata": {
        "id": "XiY6EfR537TY"
      },
      "execution_count": null,
      "outputs": []
    },
    {
      "cell_type": "code",
      "source": [
        "tup[1]"
      ],
      "metadata": {
        "colab": {
          "base_uri": "https://localhost:8080/",
          "height": 35
        },
        "id": "OVzGLRwY4ODS",
        "outputId": "86ed1273-87e5-43d6-832e-832dbcd8459e"
      },
      "execution_count": null,
      "outputs": [
        {
          "output_type": "execute_result",
          "data": {
            "text/plain": [
              "'usa'"
            ],
            "application/vnd.google.colaboratory.intrinsic+json": {
              "type": "string"
            }
          },
          "metadata": {},
          "execution_count": 15
        }
      ]
    },
    {
      "cell_type": "code",
      "source": [
        "tup[:2]"
      ],
      "metadata": {
        "colab": {
          "base_uri": "https://localhost:8080/"
        },
        "id": "Zjj0je2A4QRa",
        "outputId": "6825033e-0e4d-4d3a-d4c4-dcf6494cc07e"
      },
      "execution_count": null,
      "outputs": [
        {
          "output_type": "execute_result",
          "data": {
            "text/plain": [
              "('india', 'usa')"
            ]
          },
          "metadata": {},
          "execution_count": 18
        }
      ]
    },
    {
      "cell_type": "code",
      "source": [],
      "metadata": {
        "id": "0JSuhf2E4URI"
      },
      "execution_count": null,
      "outputs": []
    }
  ]
}